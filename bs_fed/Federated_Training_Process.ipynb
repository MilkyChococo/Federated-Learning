{
  "cells": [
    {
      "cell_type": "code",
      "source": [
        "#@title Import libs, fundamental functions\n",
        "\n",
        "\"\"\"\n",
        "Utility functions and classes for Jupyter Notebooks lessons.\n",
        "\"\"\"\n",
        "\n",
        "!pip install flwr\n",
        "!pip install -q flwr[simulation]\n",
        "!pip install flwr_datasets[vision]\n",
        "\n",
        "from collections import OrderedDict\n",
        "from typing import List, Tuple, Dict, Optional\n",
        "from flwr.common import Metrics, NDArrays, Scalar\n",
        "import torch\n",
        "import torch.nn as nn\n",
        "from torch.utils.data import Subset, DataLoader, random_split\n",
        "import torch.optim as optim\n",
        "from torchvision import datasets, transforms\n",
        "import matplotlib.pyplot as plt\n",
        "from sklearn.metrics import confusion_matrix\n",
        "import seaborn as sns\n",
        "import numpy as np\n",
        "import logging\n",
        "from flwr.common.logger import console_handler, log\n",
        "from logging import INFO, ERROR\n",
        "\n",
        "\n",
        "class InfoFilter(logging.Filter):\n",
        "    def filter(self, record):\n",
        "        return record.levelno == INFO\n",
        "\n",
        "\n",
        "console_handler.setLevel(INFO)\n",
        "console_handler.addFilter(InfoFilter())\n",
        "\n",
        "transform = transforms.Compose(\n",
        "    [transforms.ToTensor(), transforms.Normalize((0.5,), (0.5,))]\n",
        ")\n",
        "\n",
        "# To filter logging coming from the Simulation Engine\n",
        "# so it's more readable in notebooks\n",
        "from logging import ERROR\n",
        "backend_setup = {\"init_args\": {\"logging_level\": ERROR, \"log_to_driver\": False}}\n",
        "\n",
        "\n",
        "class SimpleModel(nn.Module):\n",
        "    def __init__(self):\n",
        "        super(SimpleModel, self).__init__()\n",
        "        self.fc = nn.Linear(784, 128)\n",
        "        self.relu = nn.ReLU()\n",
        "        self.out = nn.Linear(128, 10)\n",
        "\n",
        "    def forward(self, x):\n",
        "        x = torch.flatten(x, 1)\n",
        "        x = self.fc(x)\n",
        "        x = self.relu(x)\n",
        "        x = self.out(x)\n",
        "        return x\n",
        "\n",
        "\n",
        "def train_model(model, train_set):\n",
        "    batch_size = 64\n",
        "    num_epochs = 10\n",
        "\n",
        "    train_loader = DataLoader(train_set, batch_size=batch_size, shuffle=True)\n",
        "\n",
        "    criterion = nn.CrossEntropyLoss()\n",
        "    optimizer = optim.SGD(model.parameters(), lr=0.01, momentum=0.9)\n",
        "\n",
        "    model.train()\n",
        "    for epoch in range(num_epochs):\n",
        "        running_loss = 0.0\n",
        "        for inputs, labels in train_loader:\n",
        "            optimizer.zero_grad()\n",
        "            outputs = model(inputs)\n",
        "            loss = criterion(outputs, labels)\n",
        "            loss.backward()\n",
        "            optimizer.step()\n",
        "            running_loss += loss.item()\n",
        "\n",
        "\n",
        "def evaluate_model(model, test_set):\n",
        "    model.eval()\n",
        "    correct = 0\n",
        "    total = 0\n",
        "    total_loss = 0\n",
        "\n",
        "    test_loader = DataLoader(test_set, batch_size=64, shuffle=False)\n",
        "    criterion = nn.CrossEntropyLoss()\n",
        "\n",
        "    with torch.no_grad():\n",
        "        for inputs, labels in test_loader:\n",
        "            outputs = model(inputs)\n",
        "            _, predicted = torch.max(outputs.data, 1)\n",
        "            total += labels.size(0)\n",
        "            correct += (predicted == labels).sum().item()\n",
        "\n",
        "            loss = criterion(outputs, labels)\n",
        "            total_loss += loss.item()\n",
        "\n",
        "    accuracy = correct / total\n",
        "    average_loss = total_loss / len(test_loader)\n",
        "    # print(f\"Test Accuracy: {accuracy:.4f}, Average Loss: {average_loss:.4f}\")\n",
        "    return average_loss, accuracy\n",
        "\n",
        "\n",
        "def include_digits(dataset, included_digits):\n",
        "    including_indices = [\n",
        "        idx for idx in range(len(dataset)) if dataset[idx][1] in included_digits\n",
        "    ]\n",
        "    return torch.utils.data.Subset(dataset, including_indices)\n",
        "\n",
        "\n",
        "def exclude_digits(dataset, excluded_digits):\n",
        "    including_indices = [\n",
        "        idx for idx in range(len(dataset)) if dataset[idx][1] not in excluded_digits\n",
        "    ]\n",
        "    return torch.utils.data.Subset(dataset, including_indices)\n",
        "\n",
        "\n",
        "def compute_confusion_matrix(model, testset):\n",
        "    # Initialize lists to store true labels and predicted labels\n",
        "    true_labels = []\n",
        "    predicted_labels = []\n",
        "\n",
        "    # Iterate over the test set to get predictions\n",
        "    for image, label in testset:\n",
        "        # Forward pass through the model to get predictions\n",
        "        output = model(image.unsqueeze(0))  # Add batch dimension\n",
        "        _, predicted = torch.max(output, 1)\n",
        "\n",
        "        # Append true and predicted labels to lists\n",
        "        true_labels.append(label)\n",
        "        predicted_labels.append(predicted.item())\n",
        "\n",
        "    # Convert lists to numpy arrays\n",
        "    true_labels = np.array(true_labels)\n",
        "    predicted_labels = np.array(predicted_labels)\n",
        "\n",
        "    # Compute confusion matrix\n",
        "    cm = confusion_matrix(true_labels, predicted_labels)\n",
        "\n",
        "    return cm\n",
        "\n",
        "\n",
        "def plot_confusion_matrix(cm, title):\n",
        "    plt.figure(figsize=(6, 4))\n",
        "    sns.heatmap(cm, annot=True, cmap=\"Blues\", fmt=\"d\", linewidths=0.5)\n",
        "    plt.title(title)\n",
        "    plt.xlabel(\"Predicted Label\")\n",
        "    plt.ylabel(\"True Label\")\n",
        "    plt.show()\n"
      ],
      "metadata": {
        "colab": {
          "base_uri": "https://localhost:8080/"
        },
        "id": "RjcRwXX2trva",
        "outputId": "c033e133-b538-44fa-bde4-b6ccd4d86a7d"
      },
      "id": "RjcRwXX2trva",
      "execution_count": null,
      "outputs": [
        {
          "output_type": "stream",
          "name": "stdout",
          "text": [
            "Requirement already satisfied: flwr in /usr/local/lib/python3.10/dist-packages (1.10.0)\n",
            "Requirement already satisfied: cryptography<43.0.0,>=42.0.4 in /usr/local/lib/python3.10/dist-packages (from flwr) (42.0.8)\n",
            "Requirement already satisfied: grpcio!=1.64.2,!=1.65.1,<2.0.0,>=1.60.0 in /usr/local/lib/python3.10/dist-packages (from flwr) (1.64.1)\n",
            "Requirement already satisfied: iterators<0.0.3,>=0.0.2 in /usr/local/lib/python3.10/dist-packages (from flwr) (0.0.2)\n",
            "Requirement already satisfied: numpy<2.0.0,>=1.21.0 in /usr/local/lib/python3.10/dist-packages (from flwr) (1.26.4)\n",
            "Requirement already satisfied: pathspec<0.13.0,>=0.12.1 in /usr/local/lib/python3.10/dist-packages (from flwr) (0.12.1)\n",
            "Requirement already satisfied: protobuf<5.0.0,>=4.25.2 in /usr/local/lib/python3.10/dist-packages (from flwr) (4.25.4)\n",
            "Requirement already satisfied: pycryptodome<4.0.0,>=3.18.0 in /usr/local/lib/python3.10/dist-packages (from flwr) (3.20.0)\n",
            "Requirement already satisfied: tomli<3.0.0,>=2.0.1 in /usr/local/lib/python3.10/dist-packages (from flwr) (2.0.1)\n",
            "Requirement already satisfied: tomli-w<2.0.0,>=1.0.0 in /usr/local/lib/python3.10/dist-packages (from flwr) (1.0.0)\n",
            "Requirement already satisfied: typer<0.10.0,>=0.9.0 in /usr/local/lib/python3.10/dist-packages (from typer[all]<0.10.0,>=0.9.0->flwr) (0.9.4)\n",
            "Requirement already satisfied: cffi>=1.12 in /usr/local/lib/python3.10/dist-packages (from cryptography<43.0.0,>=42.0.4->flwr) (1.17.0)\n",
            "Requirement already satisfied: click<9.0.0,>=7.1.1 in /usr/local/lib/python3.10/dist-packages (from typer<0.10.0,>=0.9.0->typer[all]<0.10.0,>=0.9.0->flwr) (8.1.7)\n",
            "Requirement already satisfied: typing-extensions>=3.7.4.3 in /usr/local/lib/python3.10/dist-packages (from typer<0.10.0,>=0.9.0->typer[all]<0.10.0,>=0.9.0->flwr) (4.12.2)\n",
            "Requirement already satisfied: colorama<0.5.0,>=0.4.3 in /usr/local/lib/python3.10/dist-packages (from typer[all]<0.10.0,>=0.9.0->flwr) (0.4.6)\n",
            "Requirement already satisfied: shellingham<2.0.0,>=1.3.0 in /usr/local/lib/python3.10/dist-packages (from typer[all]<0.10.0,>=0.9.0->flwr) (1.5.4)\n",
            "Requirement already satisfied: rich<14.0.0,>=10.11.0 in /usr/local/lib/python3.10/dist-packages (from typer[all]<0.10.0,>=0.9.0->flwr) (13.7.1)\n",
            "Requirement already satisfied: pycparser in /usr/local/lib/python3.10/dist-packages (from cffi>=1.12->cryptography<43.0.0,>=42.0.4->flwr) (2.22)\n",
            "Requirement already satisfied: markdown-it-py>=2.2.0 in /usr/local/lib/python3.10/dist-packages (from rich<14.0.0,>=10.11.0->typer[all]<0.10.0,>=0.9.0->flwr) (3.0.0)\n",
            "Requirement already satisfied: pygments<3.0.0,>=2.13.0 in /usr/local/lib/python3.10/dist-packages (from rich<14.0.0,>=10.11.0->typer[all]<0.10.0,>=0.9.0->flwr) (2.16.1)\n",
            "Requirement already satisfied: mdurl~=0.1 in /usr/local/lib/python3.10/dist-packages (from markdown-it-py>=2.2.0->rich<14.0.0,>=10.11.0->typer[all]<0.10.0,>=0.9.0->flwr) (0.1.2)\n",
            "Requirement already satisfied: flwr_datasets[vision] in /usr/local/lib/python3.10/dist-packages (0.3.0)\n",
            "Requirement already satisfied: datasets<2.20.0,>=2.14.6 in /usr/local/lib/python3.10/dist-packages (from flwr_datasets[vision]) (2.19.2)\n",
            "Requirement already satisfied: matplotlib<4.0.0,>=3.7.5 in /usr/local/lib/python3.10/dist-packages (from flwr_datasets[vision]) (3.9.1.post1)\n",
            "Requirement already satisfied: numpy<2.0.0,>=1.21.0 in /usr/local/lib/python3.10/dist-packages (from flwr_datasets[vision]) (1.26.4)\n",
            "Requirement already satisfied: pyarrow==16.1.0 in /usr/local/lib/python3.10/dist-packages (from flwr_datasets[vision]) (16.1.0)\n",
            "Requirement already satisfied: seaborn<0.14.0,>=0.13.0 in /usr/local/lib/python3.10/dist-packages (from flwr_datasets[vision]) (0.13.1)\n",
            "Requirement already satisfied: tqdm<5.0.0,>=4.66.1 in /usr/local/lib/python3.10/dist-packages (from flwr_datasets[vision]) (4.66.5)\n",
            "Requirement already satisfied: pillow>=6.2.1 in /usr/local/lib/python3.10/dist-packages (from flwr_datasets[vision]) (9.4.0)\n",
            "Requirement already satisfied: filelock in /usr/local/lib/python3.10/dist-packages (from datasets<2.20.0,>=2.14.6->flwr_datasets[vision]) (3.15.4)\n",
            "Requirement already satisfied: pyarrow-hotfix in /usr/local/lib/python3.10/dist-packages (from datasets<2.20.0,>=2.14.6->flwr_datasets[vision]) (0.6)\n",
            "Requirement already satisfied: dill<0.3.9,>=0.3.0 in /usr/local/lib/python3.10/dist-packages (from datasets<2.20.0,>=2.14.6->flwr_datasets[vision]) (0.3.8)\n",
            "Requirement already satisfied: pandas in /usr/local/lib/python3.10/dist-packages (from datasets<2.20.0,>=2.14.6->flwr_datasets[vision]) (2.1.4)\n",
            "Requirement already satisfied: requests>=2.32.1 in /usr/local/lib/python3.10/dist-packages (from datasets<2.20.0,>=2.14.6->flwr_datasets[vision]) (2.32.3)\n",
            "Requirement already satisfied: xxhash in /usr/local/lib/python3.10/dist-packages (from datasets<2.20.0,>=2.14.6->flwr_datasets[vision]) (3.4.1)\n",
            "Requirement already satisfied: multiprocess in /usr/local/lib/python3.10/dist-packages (from datasets<2.20.0,>=2.14.6->flwr_datasets[vision]) (0.70.16)\n",
            "Requirement already satisfied: fsspec<=2024.3.1,>=2023.1.0 in /usr/local/lib/python3.10/dist-packages (from fsspec[http]<=2024.3.1,>=2023.1.0->datasets<2.20.0,>=2.14.6->flwr_datasets[vision]) (2024.3.1)\n",
            "Requirement already satisfied: aiohttp in /usr/local/lib/python3.10/dist-packages (from datasets<2.20.0,>=2.14.6->flwr_datasets[vision]) (3.10.1)\n",
            "Requirement already satisfied: huggingface-hub>=0.21.2 in /usr/local/lib/python3.10/dist-packages (from datasets<2.20.0,>=2.14.6->flwr_datasets[vision]) (0.23.5)\n",
            "Requirement already satisfied: packaging in /usr/local/lib/python3.10/dist-packages (from datasets<2.20.0,>=2.14.6->flwr_datasets[vision]) (24.1)\n",
            "Requirement already satisfied: pyyaml>=5.1 in /usr/local/lib/python3.10/dist-packages (from datasets<2.20.0,>=2.14.6->flwr_datasets[vision]) (6.0.2)\n",
            "Requirement already satisfied: contourpy>=1.0.1 in /usr/local/lib/python3.10/dist-packages (from matplotlib<4.0.0,>=3.7.5->flwr_datasets[vision]) (1.2.1)\n",
            "Requirement already satisfied: cycler>=0.10 in /usr/local/lib/python3.10/dist-packages (from matplotlib<4.0.0,>=3.7.5->flwr_datasets[vision]) (0.12.1)\n",
            "Requirement already satisfied: fonttools>=4.22.0 in /usr/local/lib/python3.10/dist-packages (from matplotlib<4.0.0,>=3.7.5->flwr_datasets[vision]) (4.53.1)\n",
            "Requirement already satisfied: kiwisolver>=1.3.1 in /usr/local/lib/python3.10/dist-packages (from matplotlib<4.0.0,>=3.7.5->flwr_datasets[vision]) (1.4.5)\n",
            "Requirement already satisfied: pyparsing>=2.3.1 in /usr/local/lib/python3.10/dist-packages (from matplotlib<4.0.0,>=3.7.5->flwr_datasets[vision]) (3.1.2)\n",
            "Requirement already satisfied: python-dateutil>=2.7 in /usr/local/lib/python3.10/dist-packages (from matplotlib<4.0.0,>=3.7.5->flwr_datasets[vision]) (2.8.2)\n",
            "Requirement already satisfied: aiohappyeyeballs>=2.3.0 in /usr/local/lib/python3.10/dist-packages (from aiohttp->datasets<2.20.0,>=2.14.6->flwr_datasets[vision]) (2.3.4)\n",
            "Requirement already satisfied: aiosignal>=1.1.2 in /usr/local/lib/python3.10/dist-packages (from aiohttp->datasets<2.20.0,>=2.14.6->flwr_datasets[vision]) (1.3.1)\n",
            "Requirement already satisfied: attrs>=17.3.0 in /usr/local/lib/python3.10/dist-packages (from aiohttp->datasets<2.20.0,>=2.14.6->flwr_datasets[vision]) (24.2.0)\n",
            "Requirement already satisfied: frozenlist>=1.1.1 in /usr/local/lib/python3.10/dist-packages (from aiohttp->datasets<2.20.0,>=2.14.6->flwr_datasets[vision]) (1.4.1)\n",
            "Requirement already satisfied: multidict<7.0,>=4.5 in /usr/local/lib/python3.10/dist-packages (from aiohttp->datasets<2.20.0,>=2.14.6->flwr_datasets[vision]) (6.0.5)\n",
            "Requirement already satisfied: yarl<2.0,>=1.0 in /usr/local/lib/python3.10/dist-packages (from aiohttp->datasets<2.20.0,>=2.14.6->flwr_datasets[vision]) (1.9.4)\n",
            "Requirement already satisfied: async-timeout<5.0,>=4.0 in /usr/local/lib/python3.10/dist-packages (from aiohttp->datasets<2.20.0,>=2.14.6->flwr_datasets[vision]) (4.0.3)\n",
            "Requirement already satisfied: typing-extensions>=3.7.4.3 in /usr/local/lib/python3.10/dist-packages (from huggingface-hub>=0.21.2->datasets<2.20.0,>=2.14.6->flwr_datasets[vision]) (4.12.2)\n",
            "Requirement already satisfied: pytz>=2020.1 in /usr/local/lib/python3.10/dist-packages (from pandas->datasets<2.20.0,>=2.14.6->flwr_datasets[vision]) (2024.1)\n",
            "Requirement already satisfied: tzdata>=2022.1 in /usr/local/lib/python3.10/dist-packages (from pandas->datasets<2.20.0,>=2.14.6->flwr_datasets[vision]) (2024.1)\n",
            "Requirement already satisfied: six>=1.5 in /usr/local/lib/python3.10/dist-packages (from python-dateutil>=2.7->matplotlib<4.0.0,>=3.7.5->flwr_datasets[vision]) (1.16.0)\n",
            "Requirement already satisfied: charset-normalizer<4,>=2 in /usr/local/lib/python3.10/dist-packages (from requests>=2.32.1->datasets<2.20.0,>=2.14.6->flwr_datasets[vision]) (3.3.2)\n",
            "Requirement already satisfied: idna<4,>=2.5 in /usr/local/lib/python3.10/dist-packages (from requests>=2.32.1->datasets<2.20.0,>=2.14.6->flwr_datasets[vision]) (3.7)\n",
            "Requirement already satisfied: urllib3<3,>=1.21.1 in /usr/local/lib/python3.10/dist-packages (from requests>=2.32.1->datasets<2.20.0,>=2.14.6->flwr_datasets[vision]) (2.0.7)\n",
            "Requirement already satisfied: certifi>=2017.4.17 in /usr/local/lib/python3.10/dist-packages (from requests>=2.32.1->datasets<2.20.0,>=2.14.6->flwr_datasets[vision]) (2024.7.4)\n"
          ]
        }
      ]
    },
    {
      "cell_type": "markdown",
      "id": "9219af17",
      "metadata": {
        "id": "9219af17"
      },
      "source": [
        "# Federated Training Process"
      ]
    },
    {
      "cell_type": "markdown",
      "id": "4c0ac7af",
      "metadata": {
        "id": "4c0ac7af"
      },
      "source": [
        "#### Load imports"
      ]
    },
    {
      "cell_type": "code",
      "execution_count": null,
      "id": "bb6907af-47cf-49c4-8c71-72f47bf99375",
      "metadata": {
        "height": 149,
        "colab": {
          "base_uri": "https://localhost:8080/"
        },
        "id": "bb6907af-47cf-49c4-8c71-72f47bf99375",
        "outputId": "96002465-76c0-4d14-a3e3-da2678238c82"
      },
      "outputs": [
        {
          "output_type": "stream",
          "name": "stderr",
          "text": [
            "/usr/local/lib/python3.10/dist-packages/ipykernel/ipkernel.py:283: DeprecationWarning: `should_run_async` will not call `transform_cell` automatically in the future. Please pass the result to `transformed_cell` argument and any exception that happen during thetransform in `preprocessing_exc_tuple` in IPython 7.17 and above.\n",
            "  and should_run_async(code)\n"
          ]
        }
      ],
      "source": [
        "\n",
        "\n",
        "from flwr.client import Client, ClientApp, NumPyClient\n",
        "from flwr.common import ndarrays_to_parameters, Context\n",
        "from flwr.server import ServerApp, ServerConfig\n",
        "from flwr.server import ServerAppComponents\n",
        "from flwr.server.strategy import FedAvg\n",
        "from flwr.simulation import run_simulation\n",
        "\n"
      ]
    },
    {
      "cell_type": "markdown",
      "id": "b68fab28",
      "metadata": {
        "id": "b68fab28"
      },
      "source": [
        "#### Set up the training and testing datasets"
      ]
    },
    {
      "cell_type": "markdown",
      "id": "b9991b9c",
      "metadata": {
        "id": "b9991b9c"
      },
      "source": [
        "* Set up the MNIST training datasets."
      ]
    },
    {
      "cell_type": "code",
      "execution_count": null,
      "id": "53299cb8-6e9b-4dac-8fa0-c620ef4a504c",
      "metadata": {
        "height": 251,
        "id": "53299cb8-6e9b-4dac-8fa0-c620ef4a504c"
      },
      "outputs": [],
      "source": [
        "trainset = datasets.MNIST(\n",
        "    \"./MNIST_data/\", download=True, train=True, transform=transform\n",
        ")\n",
        "\n",
        "total_length = len(trainset)\n",
        "split_size = total_length // 3\n",
        "torch.manual_seed(42)\n",
        "part1, part2, part3 = random_split(trainset, [split_size] * 3)\n",
        "\n",
        "part1 = exclude_digits(part1, excluded_digits=[1, 3, 7])\n",
        "part2 = exclude_digits(part2, excluded_digits=[2, 5, 8])\n",
        "part3 = exclude_digits(part3, excluded_digits=[4, 6, 9])\n",
        "\n",
        "train_sets = [part1, part2, part3]"
      ]
    },
    {
      "cell_type": "markdown",
      "id": "0e7c7bc5",
      "metadata": {
        "id": "0e7c7bc5"
      },
      "source": [
        "* Set up the MNIST testing datasets."
      ]
    },
    {
      "cell_type": "code",
      "execution_count": null,
      "id": "01e1aedf-5d70-44c9-a979-17b683a7219d",
      "metadata": {
        "height": 149,
        "colab": {
          "base_uri": "https://localhost:8080/"
        },
        "id": "01e1aedf-5d70-44c9-a979-17b683a7219d",
        "outputId": "bc376895-1ef1-49c4-fefc-fe1e12072bfe"
      },
      "outputs": [
        {
          "output_type": "stream",
          "name": "stdout",
          "text": [
            "Number of examples in `testset`: 10000\n"
          ]
        }
      ],
      "source": [
        "testset = datasets.MNIST(\n",
        "    \"./MNIST_data/\", download=True, train=False, transform=transform\n",
        ")\n",
        "print(\"Number of examples in `testset`:\", len(testset))\n",
        "\n",
        "testset_137 = include_digits(testset, [1, 3, 7])\n",
        "testset_258 = include_digits(testset, [2, 5, 8])\n",
        "testset_469 = include_digits(testset, [4, 6, 9])"
      ]
    },
    {
      "cell_type": "markdown",
      "id": "aecd362f",
      "metadata": {
        "id": "aecd362f"
      },
      "source": [
        "#### Define training and testing in the pipeline"
      ]
    },
    {
      "cell_type": "markdown",
      "id": "e6fc6492",
      "metadata": {
        "id": "e6fc6492"
      },
      "source": [
        "* Set functions for the client-server exchange of the training information."
      ]
    },
    {
      "cell_type": "code",
      "execution_count": null,
      "id": "4ba2c96d-503c-4833-be91-c07f538dae48",
      "metadata": {
        "height": 251,
        "id": "4ba2c96d-503c-4833-be91-c07f538dae48"
      },
      "outputs": [],
      "source": [
        "# Sets the parameters of the model\n",
        "def set_weights(net, parameters):\n",
        "    params_dict = zip(net.state_dict().keys(), parameters)\n",
        "    state_dict = OrderedDict(\n",
        "        {k: torch.tensor(v) for k, v in params_dict}\n",
        "    )\n",
        "    net.load_state_dict(state_dict, strict=True)\n",
        "\n",
        "# Retrieves the parameters from the model\n",
        "def get_weights(net):\n",
        "    ndarrays = [\n",
        "        val.cpu().numpy() for _, val in net.state_dict().items()\n",
        "    ]\n",
        "    return ndarrays"
      ]
    },
    {
      "cell_type": "markdown",
      "id": "7b5b4bfb",
      "metadata": {
        "id": "7b5b4bfb"
      },
      "source": [
        "* Connect the training in the pipeline using the Flower Client."
      ]
    },
    {
      "cell_type": "code",
      "execution_count": null,
      "id": "8bab9677-8c5b-424d-a05f-b609bfe657d6",
      "metadata": {
        "height": 302,
        "id": "8bab9677-8c5b-424d-a05f-b609bfe657d6"
      },
      "outputs": [],
      "source": [
        "class FlowerClient(NumPyClient):\n",
        "    def __init__(self, net, trainset, testset):\n",
        "        self.net = net\n",
        "        self.trainset = trainset\n",
        "        self.testset = testset\n",
        "\n",
        "    # Train the model\n",
        "    def fit(self, parameters, config):\n",
        "        set_weights(self.net, parameters)\n",
        "        train_model(self.net, self.trainset)\n",
        "        return get_weights(self.net), len(self.trainset), {}\n",
        "\n",
        "    # Test the model\n",
        "    def evaluate(self, parameters: NDArrays, config: Dict[str, Scalar]):\n",
        "        set_weights(self.net, parameters)\n",
        "        loss, accuracy = evaluate_model(self.net, self.testset)\n",
        "        return loss, len(self.testset), {\"accuracy\": accuracy}"
      ]
    },
    {
      "cell_type": "markdown",
      "id": "b2050c06",
      "metadata": {
        "id": "b2050c06"
      },
      "source": [
        "* Flower calls `client_fn` whenever it needs an instance of one particular client to call fit or evaluate."
      ]
    },
    {
      "cell_type": "code",
      "execution_count": null,
      "id": "759eb41c-a7d8-4511-b0b5-7b114bf53f19",
      "metadata": {
        "height": 132,
        "id": "759eb41c-a7d8-4511-b0b5-7b114bf53f19"
      },
      "outputs": [],
      "source": [
        "# Client function\n",
        "def client_fn(context: Context) -> Client:\n",
        "    net = SimpleModel()\n",
        "    partition_id = int(context.node_config[\"partition-id\"])\n",
        "    client_train = train_sets[int(partition_id)]\n",
        "    client_test = testset\n",
        "    return FlowerClient(net, client_train, client_test).to_client()"
      ]
    },
    {
      "cell_type": "markdown",
      "id": "c2ca0734",
      "metadata": {
        "id": "c2ca0734"
      },
      "source": [
        "* Create an instance of the ClientApp."
      ]
    },
    {
      "cell_type": "code",
      "execution_count": null,
      "id": "659f4912-fcdf-41e3-aee1-b706c4f886cd",
      "metadata": {
        "height": 30,
        "id": "659f4912-fcdf-41e3-aee1-b706c4f886cd"
      },
      "outputs": [],
      "source": [
        "client = ClientApp(client_fn)"
      ]
    },
    {
      "cell_type": "markdown",
      "id": "646dcc65",
      "metadata": {
        "id": "646dcc65"
      },
      "source": [
        "* Define `evaluate` for testing.\n",
        "\n",
        "The `evaluate` method evaluates the performance of the neural network model using the provided parameters and the test dataset (`testset`)."
      ]
    },
    {
      "cell_type": "code",
      "execution_count": null,
      "id": "5fd32ef8-8c3c-4b45-b034-d1e57bb3b71f",
      "metadata": {
        "height": 302,
        "id": "5fd32ef8-8c3c-4b45-b034-d1e57bb3b71f"
      },
      "outputs": [],
      "source": [
        "def evaluate(server_round, parameters, config):\n",
        "    net = SimpleModel()\n",
        "    set_weights(net, parameters)\n",
        "\n",
        "    _, accuracy = evaluate_model(net, testset)\n",
        "    _, accuracy137 = evaluate_model(net, testset_137)\n",
        "    _, accuracy258 = evaluate_model(net, testset_258)\n",
        "    _, accuracy469 = evaluate_model(net, testset_469)\n",
        "\n",
        "    log(INFO, \"test accuracy on all digits: %.4f\", accuracy)\n",
        "    log(INFO, \"test accuracy on [1,3,7]: %.4f\", accuracy137)\n",
        "    log(INFO, \"test accuracy on [2,5,8]: %.4f\", accuracy258)\n",
        "    log(INFO, \"test accuracy on [4,6,9]: %.4f\", accuracy469)\n",
        "\n",
        "    if server_round == 3:\n",
        "        cm = compute_confusion_matrix(net, testset)\n",
        "        plot_confusion_matrix(cm, \"Final Global Model\")"
      ]
    },
    {
      "cell_type": "markdown",
      "id": "9d15735c",
      "metadata": {
        "id": "9d15735c"
      },
      "source": [
        "* Strategy: Federated Average 'FedAvg'.\n",
        "\n",
        "The federated averaging strategy (`strategy.FedAvg`) is created for federated learning."
      ]
    },
    {
      "cell_type": "code",
      "execution_count": null,
      "id": "497046c7-a944-4520-bccf-889d41802a0e",
      "metadata": {
        "height": 268,
        "id": "497046c7-a944-4520-bccf-889d41802a0e"
      },
      "outputs": [],
      "source": [
        "net = SimpleModel()\n",
        "params = ndarrays_to_parameters(get_weights(net))\n",
        "\n",
        "def server_fn(context: Context):\n",
        "    strategy = FedAvg(\n",
        "        fraction_fit=1.0,\n",
        "        fraction_evaluate=0.0,\n",
        "        initial_parameters=params,\n",
        "        evaluate_fn=evaluate,\n",
        "    )\n",
        "    config=ServerConfig(num_rounds=3)\n",
        "    return ServerAppComponents(\n",
        "        strategy=strategy,\n",
        "        config=config,\n",
        "    )"
      ]
    },
    {
      "cell_type": "markdown",
      "id": "4d44c734",
      "metadata": {
        "id": "4d44c734"
      },
      "source": [
        "* Create an instance of ServerApp."
      ]
    },
    {
      "cell_type": "code",
      "execution_count": null,
      "id": "1bda25a7",
      "metadata": {
        "height": 30,
        "id": "1bda25a7"
      },
      "outputs": [],
      "source": [
        "server = ServerApp(server_fn=server_fn)"
      ]
    },
    {
      "cell_type": "markdown",
      "id": "16f5ee1c",
      "metadata": {
        "id": "16f5ee1c"
      },
      "source": [
        "* Start training."
      ]
    },
    {
      "cell_type": "code",
      "execution_count": null,
      "id": "41a954c3-e564-4760-96d9-a8a7a879ca3d",
      "metadata": {
        "height": 149,
        "colab": {
          "base_uri": "https://localhost:8080/",
          "height": 1000
        },
        "id": "41a954c3-e564-4760-96d9-a8a7a879ca3d",
        "outputId": "88a57d80-daf1-4f4e-d981-523f95ac111f"
      },
      "outputs": [
        {
          "output_type": "stream",
          "name": "stderr",
          "text": [
            "DEBUG:flwr:Asyncio event loop already running.\n",
            "\u001b[92mINFO \u001b[0m:      Starting Flower ServerApp, config: num_rounds=3, no round_timeout\n",
            "\u001b[92mINFO \u001b[0m:      \n",
            "\u001b[92mINFO \u001b[0m:      [INIT]\n",
            "\u001b[92mINFO \u001b[0m:      Using initial global parameters provided by strategy\n",
            "\u001b[92mINFO \u001b[0m:      Evaluating initial global parameters\n",
            "/usr/lib/python3.10/subprocess.py:1796: RuntimeWarning: os.fork() was called. os.fork() is incompatible with multithreaded code, and JAX is multithreaded, so this will likely lead to a deadlock.\n",
            "  self.pid = _posixsubprocess.fork_exec(\n",
            "/usr/lib/python3.10/subprocess.py:1796: RuntimeWarning: os.fork() was called. os.fork() is incompatible with multithreaded code, and JAX is multithreaded, so this will likely lead to a deadlock.\n",
            "  self.pid = _posixsubprocess.fork_exec(\n",
            "\u001b[92mINFO \u001b[0m:      test accuracy on all digits: 0.1267\n",
            "\u001b[92mINFO \u001b[0m:      test accuracy on [1,3,7]: 0.2275\n",
            "\u001b[92mINFO \u001b[0m:      test accuracy on [2,5,8]: 0.1201\n",
            "\u001b[92mINFO \u001b[0m:      test accuracy on [4,6,9]: 0.0380\n",
            "\u001b[92mINFO \u001b[0m:      \n",
            "\u001b[92mINFO \u001b[0m:      [ROUND 1]\n",
            "\u001b[92mINFO \u001b[0m:      configure_fit: strategy sampled 3 clients (out of 3)\n",
            "\u001b[92mINFO \u001b[0m:      aggregate_fit: received 3 results and 0 failures\n",
            "\u001b[92mINFO \u001b[0m:      test accuracy on all digits: 0.8818\n",
            "\u001b[92mINFO \u001b[0m:      test accuracy on [1,3,7]: 0.8998\n",
            "\u001b[92mINFO \u001b[0m:      test accuracy on [2,5,8]: 0.8275\n",
            "\u001b[92mINFO \u001b[0m:      test accuracy on [4,6,9]: 0.8769\n",
            "\u001b[92mINFO \u001b[0m:      configure_evaluate: no clients selected, skipping evaluation\n",
            "\u001b[92mINFO \u001b[0m:      \n",
            "\u001b[92mINFO \u001b[0m:      [ROUND 2]\n",
            "\u001b[92mINFO \u001b[0m:      configure_fit: strategy sampled 3 clients (out of 3)\n",
            "\u001b[92mINFO \u001b[0m:      aggregate_fit: received 3 results and 0 failures\n",
            "\u001b[92mINFO \u001b[0m:      test accuracy on all digits: 0.9505\n",
            "\u001b[92mINFO \u001b[0m:      test accuracy on [1,3,7]: 0.9669\n",
            "\u001b[92mINFO \u001b[0m:      test accuracy on [2,5,8]: 0.9224\n",
            "\u001b[92mINFO \u001b[0m:      test accuracy on [4,6,9]: 0.9454\n",
            "\u001b[92mINFO \u001b[0m:      configure_evaluate: no clients selected, skipping evaluation\n",
            "\u001b[92mINFO \u001b[0m:      \n",
            "\u001b[92mINFO \u001b[0m:      [ROUND 3]\n",
            "\u001b[92mINFO \u001b[0m:      configure_fit: strategy sampled 3 clients (out of 3)\n",
            "\u001b[92mINFO \u001b[0m:      aggregate_fit: received 3 results and 0 failures\n",
            "\u001b[92mINFO \u001b[0m:      test accuracy on all digits: 0.9583\n",
            "\u001b[92mINFO \u001b[0m:      test accuracy on [1,3,7]: 0.9745\n",
            "\u001b[92mINFO \u001b[0m:      test accuracy on [2,5,8]: 0.9417\n",
            "\u001b[92mINFO \u001b[0m:      test accuracy on [4,6,9]: 0.9444\n"
          ]
        },
        {
          "output_type": "display_data",
          "data": {
            "text/plain": [
              "<Figure size 600x400 with 2 Axes>"
            ],
            "image/png": "[encoded data removed]"
          },
          "metadata": {}
        },
        {
          "output_type": "stream",
          "name": "stderr",
          "text": [
            "\u001b[92mINFO \u001b[0m:      configure_evaluate: no clients selected, skipping evaluation\n",
            "\u001b[92mINFO \u001b[0m:      \n",
            "\u001b[92mINFO \u001b[0m:      [SUMMARY]\n",
            "\u001b[92mINFO \u001b[0m:      Run finished 3 round(s) in 420.61s\n",
            "\u001b[92mINFO \u001b[0m:      \n"
          ]
        }
      ],
      "source": [
        "# Initiate the simulation passing the server and client apps\n",
        "# Specify the number of super nodes that will be selected on every round\n",
        "run_simulation(\n",
        "    server_app=server,\n",
        "    client_app=client,\n",
        "    num_supernodes=3,\n",
        "    backend_config=backend_setup,\n",
        ")"
      ]
    },
    {
      "cell_type": "code",
      "source": [],
      "metadata": {
        "id": "_QVgLtoZz2EG",
        "colab": {
          "base_uri": "https://localhost:8080/"
        },
        "outputId": "37725906-32c2-4ae5-d0a2-49f5827dc35b"
      },
      "id": "_QVgLtoZz2EG",
      "execution_count": null,
      "outputs": [
        {
          "output_type": "stream",
          "name": "stderr",
          "text": [
            "/usr/local/lib/python3.10/dist-packages/ipykernel/ipkernel.py:283: DeprecationWarning: `should_run_async` will not call `transform_cell` automatically in the future. Please pass the result to `transformed_cell` argument and any exception that happen during thetransform in `preprocessing_exc_tuple` in IPython 7.17 and above.\n",
            "  and should_run_async(code)\n"
          ]
        }
      ]
    }
  ],
  "metadata": {
    "kernelspec": {
      "display_name": "Python 3",
      "name": "python3"
    },
    "language_info": {
      "codemirror_mode": {
        "name": "ipython",
        "version": 3
      },
      "file_extension": ".py",
      "mimetype": "text/x-python",
      "name": "python",
      "nbconvert_exporter": "python",
      "pygments_lexer": "ipython3",
      "version": "3.11.9"
    },
    "colab": {
      "provenance": []
    }
  },
  "nbformat": 4,
  "nbformat_minor": 5
}